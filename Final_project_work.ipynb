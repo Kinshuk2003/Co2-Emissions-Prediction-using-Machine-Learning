{
 "cells": [
  {
   "cell_type": "code",
   "execution_count": 1,
   "id": "d5eeca24",
   "metadata": {
    "colab": {
     "base_uri": "https://localhost:8080/"
    },
    "id": "d5eeca24",
    "outputId": "7efdd0a1-5bc1-47da-fc4b-c740b3ad3e48"
   },
   "outputs": [
    {
     "name": "stdout",
     "output_type": "stream",
     "text": [
      "Requirement already satisfied: ipython-autotime in c:\\users\\kinsh\\anaconda3\\lib\\site-packages (0.3.1)\n",
      "Requirement already satisfied: ipython in c:\\users\\kinsh\\anaconda3\\lib\\site-packages (from ipython-autotime) (8.2.0)\n",
      "Requirement already satisfied: prompt-toolkit!=3.0.0,!=3.0.1,<3.1.0,>=2.0.0 in c:\\users\\kinsh\\anaconda3\\lib\\site-packages (from ipython->ipython-autotime) (3.0.20)\n",
      "Requirement already satisfied: setuptools>=18.5 in c:\\users\\kinsh\\anaconda3\\lib\\site-packages (from ipython->ipython-autotime) (61.2.0)\n",
      "Requirement already satisfied: backcall in c:\\users\\kinsh\\anaconda3\\lib\\site-packages (from ipython->ipython-autotime) (0.2.0)\n",
      "Requirement already satisfied: matplotlib-inline in c:\\users\\kinsh\\anaconda3\\lib\\site-packages (from ipython->ipython-autotime) (0.1.2)\n",
      "Requirement already satisfied: pickleshare in c:\\users\\kinsh\\anaconda3\\lib\\site-packages (from ipython->ipython-autotime) (0.7.5)\n",
      "Requirement already satisfied: stack-data in c:\\users\\kinsh\\anaconda3\\lib\\site-packages (from ipython->ipython-autotime) (0.2.0)\n",
      "Requirement already satisfied: decorator in c:\\users\\kinsh\\anaconda3\\lib\\site-packages (from ipython->ipython-autotime) (5.1.1)\n",
      "Requirement already satisfied: traitlets>=5 in c:\\users\\kinsh\\anaconda3\\lib\\site-packages (from ipython->ipython-autotime) (5.1.1)\n",
      "Requirement already satisfied: jedi>=0.16 in c:\\users\\kinsh\\anaconda3\\lib\\site-packages (from ipython->ipython-autotime) (0.18.1)\n",
      "Requirement already satisfied: pygments>=2.4.0 in c:\\users\\kinsh\\anaconda3\\lib\\site-packages (from ipython->ipython-autotime) (2.11.2)\n",
      "Requirement already satisfied: colorama in c:\\users\\kinsh\\anaconda3\\lib\\site-packages (from ipython->ipython-autotime) (0.4.4)\n",
      "Requirement already satisfied: parso<0.9.0,>=0.8.0 in c:\\users\\kinsh\\anaconda3\\lib\\site-packages (from jedi>=0.16->ipython->ipython-autotime) (0.8.3)\n",
      "Requirement already satisfied: wcwidth in c:\\users\\kinsh\\anaconda3\\lib\\site-packages (from prompt-toolkit!=3.0.0,!=3.0.1,<3.1.0,>=2.0.0->ipython->ipython-autotime) (0.2.5)\n",
      "Requirement already satisfied: pure-eval in c:\\users\\kinsh\\anaconda3\\lib\\site-packages (from stack-data->ipython->ipython-autotime) (0.2.2)\n",
      "Requirement already satisfied: asttokens in c:\\users\\kinsh\\anaconda3\\lib\\site-packages (from stack-data->ipython->ipython-autotime) (2.0.5)\n",
      "Requirement already satisfied: executing in c:\\users\\kinsh\\anaconda3\\lib\\site-packages (from stack-data->ipython->ipython-autotime) (0.8.3)\n",
      "Requirement already satisfied: six in c:\\users\\kinsh\\anaconda3\\lib\\site-packages (from asttokens->stack-data->ipython->ipython-autotime) (1.16.0)\n",
      "time: 0 ns (started: 2022-12-28 22:32:59 +05:30)\n"
     ]
    }
   ],
   "source": [
    "!pip install ipython-autotime\n",
    "%load_ext autotime"
   ]
  },
  {
   "cell_type": "markdown",
   "id": "49c4180c",
   "metadata": {
    "id": "49c4180c"
   },
   "source": [
    "### Importing The Required Python Libraries"
   ]
  },
  {
   "cell_type": "code",
   "execution_count": 2,
   "id": "0b1a1583",
   "metadata": {
    "colab": {
     "base_uri": "https://localhost:8080/"
    },
    "id": "0b1a1583",
    "outputId": "23cbb61a-288a-4152-f2ac-8eeb23f850e6"
   },
   "outputs": [
    {
     "name": "stdout",
     "output_type": "stream",
     "text": [
      "time: 5.88 s (started: 2022-12-28 22:32:59 +05:30)\n"
     ]
    }
   ],
   "source": [
    "import pandas as pd\n",
    "import numpy as np\n",
    "from sklearn import preprocessing\n",
    "import matplotlib\n",
    "from matplotlib import pyplot as plt\n",
    "import seaborn as sns"
   ]
  },
  {
   "cell_type": "code",
   "execution_count": 3,
   "id": "-bR9bGavFJaD",
   "metadata": {
    "colab": {
     "base_uri": "https://localhost:8080/"
    },
    "id": "-bR9bGavFJaD",
    "outputId": "2c877c7b-e00b-4d69-c0da-2f2d5ebccd35"
   },
   "outputs": [
    {
     "name": "stdout",
     "output_type": "stream",
     "text": [
      "time: 0 ns (started: 2022-12-28 22:33:05 +05:30)\n"
     ]
    }
   ],
   "source": [
    "from joblib import dump, load"
   ]
  },
  {
   "cell_type": "markdown",
   "id": "c2fa13c8",
   "metadata": {
    "id": "c2fa13c8"
   },
   "source": [
    "#### Reading the Original Dataset"
   ]
  },
  {
   "cell_type": "code",
   "execution_count": 4,
   "id": "9ee3c3e2",
   "metadata": {
    "colab": {
     "base_uri": "https://localhost:8080/"
    },
    "id": "9ee3c3e2",
    "outputId": "c332a33a-3f40-404c-e1d7-5144df0d1144"
   },
   "outputs": [
    {
     "data": {
      "text/plain": [
       "(25989, 60)"
      ]
     },
     "execution_count": 4,
     "metadata": {},
     "output_type": "execute_result"
    },
    {
     "name": "stdout",
     "output_type": "stream",
     "text": [
      "time: 172 ms (started: 2022-12-28 22:33:05 +05:30)\n"
     ]
    }
   ],
   "source": [
    "df=pd.read_csv('owid-co2-data.csv')\n",
    "df.shape"
   ]
  },
  {
   "cell_type": "code",
   "execution_count": 5,
   "id": "068eaad8",
   "metadata": {
    "colab": {
     "base_uri": "https://localhost:8080/"
    },
    "id": "068eaad8",
    "outputId": "7567ab3d-d116-45e0-a0d5-bda3b986a2dc"
   },
   "outputs": [
    {
     "name": "stdout",
     "output_type": "stream",
     "text": [
      "time: 32 ms (started: 2022-12-28 22:33:05 +05:30)\n"
     ]
    }
   ],
   "source": [
    "y=df['co2']\n",
    "df=df.drop('co2',axis=1)\n",
    "\n",
    "df['co2']=y"
   ]
  },
  {
   "cell_type": "markdown",
   "id": "cb6e8496",
   "metadata": {
    "id": "cb6e8496"
   },
   "source": [
    "#### Data Cleaning using dropping rows with NA values"
   ]
  },
  {
   "cell_type": "code",
   "execution_count": 6,
   "id": "bb687861",
   "metadata": {
    "colab": {
     "base_uri": "https://localhost:8080/"
    },
    "id": "bb687861",
    "outputId": "fce0edb2-10b4-4d68-881f-fb3371787a7f"
   },
   "outputs": [
    {
     "name": "stdout",
     "output_type": "stream",
     "text": [
      "time: 31 ms (started: 2022-12-28 22:33:05 +05:30)\n"
     ]
    }
   ],
   "source": [
    "df=df.drop('iso_code', axis=1)"
   ]
  },
  {
   "cell_type": "code",
   "execution_count": 7,
   "id": "0017bd4a",
   "metadata": {
    "colab": {
     "base_uri": "https://localhost:8080/"
    },
    "id": "0017bd4a",
    "outputId": "8b207b11-665d-4756-e220-09b4ec473975"
   },
   "outputs": [
    {
     "name": "stdout",
     "output_type": "stream",
     "text": [
      "(1128, 59)\n",
      "time: 16 ms (started: 2022-12-28 22:33:05 +05:30)\n"
     ]
    }
   ],
   "source": [
    "data=df.dropna()\n",
    "print(data.shape)"
   ]
  },
  {
   "cell_type": "code",
   "execution_count": null,
   "id": "a85c9c8c",
   "metadata": {
    "colab": {
     "base_uri": "https://localhost:8080/"
    },
    "id": "a85c9c8c",
    "outputId": "617ceb99-3c4b-4c7e-d19d-35eca6764b70"
   },
   "outputs": [],
   "source": []
  },
  {
   "cell_type": "code",
   "execution_count": 8,
   "id": "bedb9a31",
   "metadata": {
    "colab": {
     "base_uri": "https://localhost:8080/",
     "height": 622
    },
    "id": "bedb9a31",
    "outputId": "adfd18d2-11bb-459d-99c1-36553f320cb3"
   },
   "outputs": [
    {
     "data": {
      "image/png": "[encoded data removed]",
      "text/plain": [
       "<Figure size 864x504 with 1 Axes>"
      ]
     },
     "metadata": {
      "needs_background": "light"
     },
     "output_type": "display_data"
    },
    {
     "name": "stdout",
     "output_type": "stream",
     "text": [
      "time: 1 s (started: 2022-12-28 22:33:05 +05:30)\n"
     ]
    }
   ],
   "source": [
    "fig, ax = plt.subplots(1,1, figsize = (12,7))\n",
    "data.boxplot(\"co2\", \"country\", ax=ax)\n",
    "plt.suptitle('co2 vs Country')\n",
    "plt.title('')\n",
    "plt.ylabel('co2')\n",
    "plt.xticks(rotation=90)\n",
    "plt.show()"
   ]
  },
  {
   "cell_type": "markdown",
   "id": "1fc2aebf",
   "metadata": {
    "id": "1fc2aebf"
   },
   "source": [
    "#### Data Cleaning using selecting 20 years data and fill using median"
   ]
  },
  {
   "cell_type": "code",
   "execution_count": 9,
   "id": "41ba09cb",
   "metadata": {
    "colab": {
     "base_uri": "https://localhost:8080/"
    },
    "id": "41ba09cb",
    "outputId": "df181a1c-9e90-4334-85d5-c843522ce35c"
   },
   "outputs": [
    {
     "name": "stdout",
     "output_type": "stream",
     "text": [
      "time: 16 ms (started: 2022-12-28 22:33:06 +05:30)\n"
     ]
    }
   ],
   "source": [
    "data1=df.copy()\n",
    "\n",
    "data1 = data1.loc[df['year'].isin([2001, 2002, 2003, 2004, 2005, 2006, 2007, 2008, 2009, 2010, 2011, 2012, 2013, 2014, 2015, 2016, 2017, 2018, 2019, 2020])]"
   ]
  },
  {
   "cell_type": "code",
   "execution_count": 10,
   "id": "8fcbc9e2",
   "metadata": {
    "colab": {
     "base_uri": "https://localhost:8080/"
    },
    "id": "8fcbc9e2",
    "outputId": "343cb59f-b819-4d7a-d1c1-ad31f6664d29"
   },
   "outputs": [
    {
     "name": "stdout",
     "output_type": "stream",
     "text": [
      "(4951, 59)\n",
      "(4920, 59)\n",
      "time: 16 ms (started: 2022-12-28 22:33:06 +05:30)\n"
     ]
    }
   ],
   "source": [
    "print(data1.shape)\n",
    "value_counts = data1['country'].value_counts()\n",
    "\n",
    "# Select the rows where the count of occurrences of the value in the 'Category' column is less than 20\n",
    "data1 = data1[data1['country'].isin(value_counts[value_counts == 20].index)]\n",
    "print(data1.shape)"
   ]
  },
  {
   "cell_type": "code",
   "execution_count": 11,
   "id": "f370d599",
   "metadata": {
    "colab": {
     "base_uri": "https://localhost:8080/"
    },
    "id": "f370d599",
    "outputId": "9262c18b-c413-4273-90d8-a8e11c084253"
   },
   "outputs": [
    {
     "name": "stdout",
     "output_type": "stream",
     "text": [
      "time: 313 ms (started: 2022-12-28 22:33:06 +05:30)\n"
     ]
    }
   ],
   "source": [
    "data1.fillna(df.median(numeric_only=True), inplace=True)\n",
    "\n",
    "data1.to_csv('median_fillna.csv', index = False)"
   ]
  },
  {
   "cell_type": "code",
   "execution_count": 12,
   "id": "58a296be",
   "metadata": {
    "colab": {
     "base_uri": "https://localhost:8080/",
     "height": 511
    },
    "id": "58a296be",
    "outputId": "e9b81426-5d1d-4e03-f63c-77e0e259d8c4"
   },
   "outputs": [
    {
     "data": {
      "image/png": "[encoded data removed]",
      "text/plain": [
       "<Figure size 1728x504 with 1 Axes>"
      ]
     },
     "metadata": {
      "needs_background": "light"
     },
     "output_type": "display_data"
    },
    {
     "name": "stdout",
     "output_type": "stream",
     "text": [
      "time: 5.45 s (started: 2022-12-28 22:33:07 +05:30)\n"
     ]
    }
   ],
   "source": [
    "fig, ax = plt.subplots(1,1, figsize = (24,7))\n",
    "data1.boxplot(\"co2\", \"country\", ax=ax)\n",
    "plt.suptitle('co2 vs Country')\n",
    "plt.title('')\n",
    "plt.ylabel('co2')\n",
    "plt.xticks(rotation=90)\n",
    "plt.show()"
   ]
  },
  {
   "cell_type": "markdown",
   "id": "fbf36964",
   "metadata": {
    "id": "fbf36964"
   },
   "source": [
    "#### Label encoding the country feature"
   ]
  },
  {
   "cell_type": "code",
   "execution_count": 13,
   "id": "44134f0d",
   "metadata": {
    "colab": {
     "base_uri": "https://localhost:8080/"
    },
    "id": "44134f0d",
    "outputId": "6a367f9e-0149-4bbf-fd1b-2a08e28258b0"
   },
   "outputs": [
    {
     "name": "stdout",
     "output_type": "stream",
     "text": [
      "time: 781 ms (started: 2022-12-28 22:33:12 +05:30)\n"
     ]
    },
    {
     "name": "stderr",
     "output_type": "stream",
     "text": [
      "C:\\Users\\kinsh\\AppData\\Local\\Temp\\ipykernel_33732\\332896655.py:3: SettingWithCopyWarning: \n",
      "A value is trying to be set on a copy of a slice from a DataFrame.\n",
      "Try using .loc[row_indexer,col_indexer] = value instead\n",
      "\n",
      "See the caveats in the documentation: https://pandas.pydata.org/pandas-docs/stable/user_guide/indexing.html#returning-a-view-versus-a-copy\n",
      "  data['country']= count.fit_transform(data['country'])\n"
     ]
    }
   ],
   "source": [
    "from sklearn.preprocessing import LabelEncoder\n",
    "count=LabelEncoder()\n",
    "data['country']= count.fit_transform(data['country'])\n",
    "data['country'].unique()\n",
    "\n",
    "data.to_csv('row_cleaned.csv', index = False)"
   ]
  },
  {
   "cell_type": "code",
   "execution_count": 14,
   "id": "c695a6d9",
   "metadata": {
    "colab": {
     "base_uri": "https://localhost:8080/"
    },
    "id": "c695a6d9",
    "outputId": "fc5ff4d6-0da5-4388-d274-711ee23b30c2"
   },
   "outputs": [
    {
     "name": "stdout",
     "output_type": "stream",
     "text": [
      "time: 266 ms (started: 2022-12-28 22:33:13 +05:30)\n"
     ]
    }
   ],
   "source": [
    "count=LabelEncoder()\n",
    "data1['country']= count.fit_transform(data1['country'])\n",
    "data1['country'].unique()\n",
    "\n",
    "\n",
    "data1.to_csv('median_fillna.csv', index = False)\n"
   ]
  },
  {
   "cell_type": "markdown",
   "id": "9c03bad1",
   "metadata": {
    "id": "9c03bad1"
   },
   "source": [
    "#### normalizing the median fillna data set"
   ]
  },
  {
   "cell_type": "code",
   "execution_count": 15,
   "id": "e4e8eace",
   "metadata": {
    "colab": {
     "base_uri": "https://localhost:8080/"
    },
    "id": "e4e8eace",
    "outputId": "89006522-dff5-463b-e27d-f37cd813a93a"
   },
   "outputs": [
    {
     "name": "stdout",
     "output_type": "stream",
     "text": [
      "time: 781 ms (started: 2022-12-28 22:33:13 +05:30)\n"
     ]
    }
   ],
   "source": [
    "data_min_max = data1.copy()\n",
    "\n",
    "# apply normalization techniques\n",
    "for column in data_min_max.iloc[:, :]:\n",
    "    data_min_max[column] = (data_min_max[column] - data_min_max[column].min()) / (data_min_max[column].max() - data_min_max[column].min())\n",
    "\n",
    "\n",
    "data_min_max.to_csv('min-max-normalized.csv')"
   ]
  },
  {
   "cell_type": "markdown",
   "id": "b2d2fb86",
   "metadata": {
    "id": "b2d2fb86"
   },
   "source": [
    "#### Correlation Matrix"
   ]
  },
  {
   "cell_type": "code",
   "execution_count": 16,
   "id": "187e956d",
   "metadata": {
    "colab": {
     "base_uri": "https://localhost:8080/"
    },
    "id": "187e956d",
    "outputId": "313ac8e6-26bd-4382-d64d-f91022f077b1"
   },
   "outputs": [
    {
     "name": "stdout",
     "output_type": "stream",
     "text": [
      "time: 78 ms (started: 2022-12-28 22:33:14 +05:30)\n"
     ]
    }
   ],
   "source": [
    "corrM = data_min_max.corr()\n",
    "corrM.to_csv('correlation.csv', index = False)"
   ]
  },
  {
   "cell_type": "code",
   "execution_count": 17,
   "id": "AGvX2tPTZG3Y",
   "metadata": {
    "colab": {
     "base_uri": "https://localhost:8080/",
     "height": 484
    },
    "id": "AGvX2tPTZG3Y",
    "outputId": "11508bd1-22c8-4764-b83c-3c9e4c72a4d4"
   },
   "outputs": [
    {
     "data": {
      "text/plain": [
       "<AxesSubplot:>"
      ]
     },
     "execution_count": 17,
     "metadata": {},
     "output_type": "execute_result"
    },
    {
     "data": {
      "image/png": "[encoded data removed]",
      "text/plain": [
       "<Figure size 432x288 with 2 Axes>"
      ]
     },
     "metadata": {
      "needs_background": "light"
     },
     "output_type": "display_data"
    },
    {
     "name": "stdout",
     "output_type": "stream",
     "text": [
      "time: 625 ms (started: 2022-12-28 22:33:14 +05:30)\n"
     ]
    }
   ],
   "source": [
    "sns.heatmap(corrM, cmap='crest')"
   ]
  },
  {
   "cell_type": "markdown",
   "id": "f2e47e45",
   "metadata": {
    "id": "f2e47e45"
   },
   "source": [
    "### PCA to reduce dimensionality"
   ]
  },
  {
   "cell_type": "code",
   "execution_count": 18,
   "id": "3292651d",
   "metadata": {
    "colab": {
     "base_uri": "https://localhost:8080/",
     "height": 577
    },
    "id": "3292651d",
    "outputId": "7d82fb61-8d3b-4bf6-e365-96336d73160a"
   },
   "outputs": [
    {
     "name": "stdout",
     "output_type": "stream",
     "text": [
      "[3.44281816e-01 1.77626687e-01 1.61445269e-01 1.09493820e-01\n",
      " 2.88527835e-02 2.45142255e-02 2.24956600e-02 2.06582283e-02\n",
      " 1.55974283e-02 1.47761045e-02 1.41817729e-02 1.08047760e-02\n",
      " 8.13104681e-03 7.24009510e-03 5.95301086e-03 5.37928531e-03\n",
      " 4.60591004e-03 2.90691175e-03 2.78550548e-03 2.47659492e-03\n",
      " 2.15364211e-03 2.00243371e-03 1.83979488e-03 1.67277431e-03\n",
      " 1.21423204e-03 1.19669237e-03 1.06994593e-03 1.01801292e-03\n",
      " 7.59341496e-04 6.14640999e-04 4.72724637e-04 4.52647532e-04\n",
      " 2.87073001e-04 2.40573350e-04 2.29612096e-04 1.79286397e-04\n",
      " 1.09147308e-04 5.38095684e-05 5.29769354e-05 3.39113983e-05\n",
      " 2.57233406e-05 2.44185609e-05 2.08868327e-05 1.65356120e-05\n",
      " 1.49960016e-05 9.77318067e-06 8.74612441e-06 6.28128656e-06\n",
      " 4.02783278e-06 2.34830311e-06 1.96761389e-06 1.56417944e-06\n",
      " 1.24074490e-06 6.28826902e-07 3.72770849e-07 2.70590721e-07\n",
      " 1.32624723e-08 5.97118876e-10]\n",
      "0.9999999999999999\n"
     ]
    },
    {
     "data": {
      "text/plain": [
       "<AxesSubplot:>"
      ]
     },
     "execution_count": 18,
     "metadata": {},
     "output_type": "execute_result"
    },
    {
     "data": {
      "image/png": "[encoded data removed]",
      "text/plain": [
       "<Figure size 432x288 with 1 Axes>"
      ]
     },
     "metadata": {
      "needs_background": "light"
     },
     "output_type": "display_data"
    },
    {
     "name": "stdout",
     "output_type": "stream",
     "text": [
      "time: 672 ms (started: 2022-12-28 22:33:15 +05:30)\n"
     ]
    }
   ],
   "source": [
    "from sklearn.decomposition import PCA\n",
    "  \n",
    "pca = PCA()\n",
    "\n",
    "X = pca.fit_transform(data_min_max.iloc[:,:-1])\n",
    "\n",
    "explained_variance = pca.explained_variance_ratio_\n",
    "print(explained_variance)\n",
    "print(sum(explained_variance))\n",
    "xt=np.cumsum(explained_variance)\n",
    "\n",
    "sns.lineplot(data=xt)"
   ]
  },
  {
   "cell_type": "code",
   "execution_count": 19,
   "id": "c31dee48",
   "metadata": {
    "colab": {
     "base_uri": "https://localhost:8080/"
    },
    "id": "c31dee48",
    "outputId": "fc1fff47-d3fe-4ca7-f506-02af632f51b7"
   },
   "outputs": [
    {
     "name": "stdout",
     "output_type": "stream",
     "text": [
      "0.9817303364269897\n",
      "(4920, 19)\n",
      "time: 31 ms (started: 2022-12-28 22:33:15 +05:30)\n"
     ]
    }
   ],
   "source": [
    "pca = PCA(n_components=0.98)\n",
    "\n",
    "X = pca.fit_transform(data_min_max.iloc[:,:-1])\n",
    "\n",
    "\n",
    "explained_variance = pca.explained_variance_ratio_\n",
    "print(sum(explained_variance))\n",
    "print(X.shape)"
   ]
  },
  {
   "cell_type": "markdown",
   "id": "DrNeFgzLHI3V",
   "metadata": {
    "id": "DrNeFgzLHI3V"
   },
   "source": [
    "Storing PCA in memory"
   ]
  },
  {
   "cell_type": "code",
   "execution_count": 20,
   "id": "rAc5GWYmG7tW",
   "metadata": {
    "colab": {
     "base_uri": "https://localhost:8080/"
    },
    "id": "rAc5GWYmG7tW",
    "outputId": "0a07faa8-c9c7-49e5-e7f8-b7c950906c9f"
   },
   "outputs": [
    {
     "data": {
      "text/plain": [
       "['PCA.joblib']"
      ]
     },
     "execution_count": 20,
     "metadata": {},
     "output_type": "execute_result"
    },
    {
     "name": "stdout",
     "output_type": "stream",
     "text": [
      "time: 16 ms (started: 2022-12-28 22:33:15 +05:30)\n"
     ]
    }
   ],
   "source": [
    "dump(pca , 'PCA.joblib')"
   ]
  },
  {
   "cell_type": "markdown",
   "id": "b3f27d3e",
   "metadata": {
    "id": "b3f27d3e"
   },
   "source": [
    "#### Spliting the data set for training and testing"
   ]
  },
  {
   "cell_type": "code",
   "execution_count": 21,
   "id": "5301372f",
   "metadata": {
    "colab": {
     "base_uri": "https://localhost:8080/"
    },
    "id": "5301372f",
    "outputId": "827ab9e4-370a-4e6c-984f-8aade991defc"
   },
   "outputs": [
    {
     "name": "stdout",
     "output_type": "stream",
     "text": [
      "time: 15 ms (started: 2022-12-28 22:33:15 +05:30)\n"
     ]
    }
   ],
   "source": [
    "from sklearn.model_selection import train_test_split\n",
    "z=X\n",
    "y=data_min_max['co2']\n",
    "#X_train = input data for traing set\n",
    "#X_test = input data for testing set\n",
    "#y_train = output for traing set\n",
    "#y_test = output for test set\n",
    "X_train, X_test, Y_train, Y_test = train_test_split(z, y, test_size=0.3)"
   ]
  },
  {
   "cell_type": "markdown",
   "id": "7998a597",
   "metadata": {
    "id": "7998a597"
   },
   "source": [
    "#### Linear Regression"
   ]
  },
  {
   "cell_type": "code",
   "execution_count": 22,
   "id": "7b2851cf",
   "metadata": {
    "colab": {
     "base_uri": "https://localhost:8080/"
    },
    "id": "7b2851cf",
    "outputId": "13594f10-c199-419f-85f0-e001aa7b610a"
   },
   "outputs": [
    {
     "name": "stdout",
     "output_type": "stream",
     "text": [
      "time: 94 ms (started: 2022-12-28 22:33:15 +05:30)\n"
     ]
    }
   ],
   "source": [
    "from sklearn import datasets, linear_model\n",
    "from sklearn.metrics import mean_squared_error, r2_score"
   ]
  },
  {
   "cell_type": "code",
   "execution_count": 23,
   "id": "382c27c4",
   "metadata": {
    "colab": {
     "base_uri": "https://localhost:8080/"
    },
    "id": "382c27c4",
    "outputId": "1c4c5d87-4b32-43ee-8874-75cac93eb998"
   },
   "outputs": [
    {
     "name": "stdout",
     "output_type": "stream",
     "text": [
      "time: 16 ms (started: 2022-12-28 22:33:15 +05:30)\n"
     ]
    }
   ],
   "source": [
    "regr = linear_model.LinearRegression()\n",
    "regr.fit(X_train,Y_train)\n",
    "predicted_value=regr.predict(X_test)"
   ]
  },
  {
   "cell_type": "code",
   "execution_count": 24,
   "id": "NrPqpSmpA-IV",
   "metadata": {
    "colab": {
     "base_uri": "https://localhost:8080/"
    },
    "id": "NrPqpSmpA-IV",
    "outputId": "f2e6cef8-5647-4c43-e9a7-f19ed357cd8a"
   },
   "outputs": [
    {
     "name": "stdout",
     "output_type": "stream",
     "text": [
      "[0.01091441 0.00873217 0.00124137 ... 0.00884403 0.00143423 0.0004409 ]\n",
      "time: 0 ns (started: 2022-12-28 22:33:15 +05:30)\n"
     ]
    }
   ],
   "source": [
    "print(predicted_value)"
   ]
  },
  {
   "cell_type": "markdown",
   "id": "jIFFbIoEE8DN",
   "metadata": {
    "id": "jIFFbIoEE8DN"
   },
   "source": [
    "Saving the Trained Model to the Memory"
   ]
  },
  {
   "cell_type": "code",
   "execution_count": 25,
   "id": "SjxVtgUcAbeD",
   "metadata": {
    "colab": {
     "base_uri": "https://localhost:8080/"
    },
    "id": "SjxVtgUcAbeD",
    "outputId": "90f1d33f-299d-4fec-8de3-017656fa5d94"
   },
   "outputs": [
    {
     "data": {
      "text/plain": [
       "['LinearRegression.joblib']"
      ]
     },
     "execution_count": 25,
     "metadata": {},
     "output_type": "execute_result"
    },
    {
     "name": "stdout",
     "output_type": "stream",
     "text": [
      "time: 16 ms (started: 2022-12-28 22:33:15 +05:30)\n"
     ]
    }
   ],
   "source": [
    "dump(regr , 'LinearRegression.joblib')"
   ]
  },
  {
   "cell_type": "markdown",
   "id": "JTceJ06EHVbH",
   "metadata": {
    "id": "JTceJ06EHVbH"
   },
   "source": [
    "Calculating MSE"
   ]
  },
  {
   "cell_type": "code",
   "execution_count": 26,
   "id": "936b5309",
   "metadata": {
    "colab": {
     "base_uri": "https://localhost:8080/"
    },
    "id": "936b5309",
    "outputId": "a813620e-185f-4400-a762-5a434da6b5b3"
   },
   "outputs": [
    {
     "name": "stdout",
     "output_type": "stream",
     "text": [
      "time: 0 ns (started: 2022-12-28 22:33:16 +05:30)\n"
     ]
    }
   ],
   "source": [
    "from sklearn.metrics import mean_squared_error"
   ]
  },
  {
   "cell_type": "code",
   "execution_count": 27,
   "id": "78a665d3",
   "metadata": {
    "colab": {
     "base_uri": "https://localhost:8080/"
    },
    "id": "78a665d3",
    "outputId": "a989a6b6-f843-4275-cc8b-fd5f111a267e"
   },
   "outputs": [
    {
     "name": "stdout",
     "output_type": "stream",
     "text": [
      "time: 16 ms (started: 2022-12-28 22:33:16 +05:30)\n"
     ]
    }
   ],
   "source": [
    "lr_mse = mean_squared_error(Y_test, predicted_value)"
   ]
  },
  {
   "cell_type": "code",
   "execution_count": 28,
   "id": "3764d03e",
   "metadata": {
    "colab": {
     "base_uri": "https://localhost:8080/"
    },
    "id": "3764d03e",
    "outputId": "76ad6e2d-dfee-43b3-c1a0-ef7131d14f14"
   },
   "outputs": [
    {
     "name": "stdout",
     "output_type": "stream",
     "text": [
      "time: 0 ns (started: 2022-12-28 22:33:16 +05:30)\n"
     ]
    }
   ],
   "source": [
    "linr_test=regr.score(X_test,Y_test)"
   ]
  },
  {
   "cell_type": "code",
   "execution_count": 29,
   "id": "a13e8012",
   "metadata": {
    "colab": {
     "base_uri": "https://localhost:8080/"
    },
    "id": "a13e8012",
    "outputId": "009ed7ee-cc24-4b11-9c3b-4bbda529493e"
   },
   "outputs": [
    {
     "name": "stdout",
     "output_type": "stream",
     "text": [
      "time: 16 ms (started: 2022-12-28 22:33:16 +05:30)\n"
     ]
    }
   ],
   "source": [
    "linr_train=regr.score(X_train,Y_train)"
   ]
  },
  {
   "cell_type": "markdown",
   "id": "aabe12be",
   "metadata": {
    "id": "aabe12be"
   },
   "source": [
    "#### K-nn Regression"
   ]
  },
  {
   "cell_type": "code",
   "execution_count": 30,
   "id": "7482a464",
   "metadata": {
    "colab": {
     "base_uri": "https://localhost:8080/"
    },
    "id": "7482a464",
    "outputId": "973be6ab-0bca-4492-b793-cc6909b09b8a"
   },
   "outputs": [
    {
     "name": "stdout",
     "output_type": "stream",
     "text": [
      "time: 47 ms (started: 2022-12-28 22:33:16 +05:30)\n"
     ]
    }
   ],
   "source": [
    "from sklearn import neighbors\n",
    "from math import sqrt"
   ]
  },
  {
   "cell_type": "code",
   "execution_count": 31,
   "id": "087a6aea",
   "metadata": {
    "colab": {
     "base_uri": "https://localhost:8080/"
    },
    "id": "087a6aea",
    "outputId": "0cc3a595-8342-4dd2-dd9e-cc027b9620d6"
   },
   "outputs": [
    {
     "data": {
      "text/plain": [
       "KNeighborsRegressor(n_neighbors=3)"
      ]
     },
     "execution_count": 31,
     "metadata": {},
     "output_type": "execute_result"
    },
    {
     "name": "stdout",
     "output_type": "stream",
     "text": [
      "time: 16 ms (started: 2022-12-28 22:33:16 +05:30)\n"
     ]
    }
   ],
   "source": [
    "model = neighbors.KNeighborsRegressor(n_neighbors = 3)\n",
    "\n",
    "model.fit(X_train, Y_train)"
   ]
  },
  {
   "cell_type": "code",
   "execution_count": 32,
   "id": "PHvE6xcoHblz",
   "metadata": {
    "colab": {
     "base_uri": "https://localhost:8080/"
    },
    "id": "PHvE6xcoHblz",
    "outputId": "64aa0fb1-298c-4a95-84d6-074eb229cf6d"
   },
   "outputs": [
    {
     "data": {
      "text/plain": [
       "['KnnRegression.joblib']"
      ]
     },
     "execution_count": 32,
     "metadata": {},
     "output_type": "execute_result"
    },
    {
     "name": "stdout",
     "output_type": "stream",
     "text": [
      "time: 15 ms (started: 2022-12-28 22:33:16 +05:30)\n"
     ]
    }
   ],
   "source": [
    "dump(model , 'KnnRegression.joblib')"
   ]
  },
  {
   "cell_type": "code",
   "execution_count": 33,
   "id": "41767439",
   "metadata": {
    "colab": {
     "base_uri": "https://localhost:8080/"
    },
    "id": "41767439",
    "outputId": "00ba74bf-2947-40d0-bc45-135a138493aa"
   },
   "outputs": [
    {
     "name": "stdout",
     "output_type": "stream",
     "text": [
      "time: 110 ms (started: 2022-12-28 22:33:16 +05:30)\n"
     ]
    }
   ],
   "source": [
    "pred=model.predict(X_test)"
   ]
  },
  {
   "cell_type": "code",
   "execution_count": 34,
   "id": "db839ede",
   "metadata": {
    "colab": {
     "base_uri": "https://localhost:8080/"
    },
    "id": "db839ede",
    "outputId": "db5fa6c1-88f8-4f9d-f553-53bcd68d0cc6"
   },
   "outputs": [
    {
     "name": "stdout",
     "output_type": "stream",
     "text": [
      "time: 406 ms (started: 2022-12-28 22:33:16 +05:30)\n"
     ]
    }
   ],
   "source": [
    "knn_train=model.score(X_train, Y_train)\n",
    "knn_test=model.score(X_test,Y_test)"
   ]
  },
  {
   "cell_type": "code",
   "execution_count": 35,
   "id": "ecafbd63",
   "metadata": {
    "colab": {
     "base_uri": "https://localhost:8080/"
    },
    "id": "ecafbd63",
    "outputId": "ebf3b257-a163-46c2-b2b0-d6845ddac2cc"
   },
   "outputs": [
    {
     "name": "stdout",
     "output_type": "stream",
     "text": [
      "time: 0 ns (started: 2022-12-28 22:33:16 +05:30)\n"
     ]
    }
   ],
   "source": [
    "knn_mse = mean_squared_error(Y_test, pred)"
   ]
  },
  {
   "cell_type": "code",
   "execution_count": 36,
   "id": "9902c482",
   "metadata": {
    "colab": {
     "base_uri": "https://localhost:8080/"
    },
    "id": "9902c482",
    "outputId": "1994dc6a-9a46-47ee-f2c6-58304a637866"
   },
   "outputs": [
    {
     "name": "stdout",
     "output_type": "stream",
     "text": [
      "MSE value for k=  1 is: 8.242100993161118e-06\n",
      "train Accuracy: 1.0\n",
      "test Accuracy: 0.9984060960455281\n",
      "-------------------------------\n",
      "MSE value for k=  2 is: 1.0976109044722954e-05\n",
      "train Accuracy: 0.9996441446988202\n",
      "test Accuracy: 0.9978773781556893\n",
      "-------------------------------\n",
      "MSE value for k=  3 is: 1.7777582593401347e-05\n",
      "train Accuracy: 0.9994771090598334\n",
      "test Accuracy: 0.9965620708578935\n",
      "-------------------------------\n",
      "MSE value for k=  4 is: 2.452235049218229e-05\n",
      "train Accuracy: 0.9990436104812045\n",
      "test Accuracy: 0.99525772961835\n",
      "-------------------------------\n",
      "MSE value for k=  5 is: 3.2335782527598826e-05\n",
      "train Accuracy: 0.9985494634322755\n",
      "test Accuracy: 0.9937467240835257\n",
      "-------------------------------\n",
      "MSE value for k=  6 is: 4.103914544731405e-05\n",
      "train Accuracy: 0.997812253042842\n",
      "test Accuracy: 0.9920636186973567\n",
      "-------------------------------\n",
      "MSE value for k=  7 is: 5.3359020343613196e-05\n",
      "train Accuracy: 0.9969993762476282\n",
      "test Accuracy: 0.9896811318372583\n",
      "-------------------------------\n",
      "MSE value for k=  8 is: 6.696987584866768e-05\n",
      "train Accuracy: 0.99603924277892\n",
      "test Accuracy: 0.9870489878692029\n",
      "-------------------------------\n",
      "MSE value for k=  9 is: 7.951889420727847e-05\n",
      "train Accuracy: 0.9948113836963333\n",
      "test Accuracy: 0.9846221879545783\n",
      "-------------------------------\n",
      "MSE value for k=  10 is: 8.498939589812165e-05\n",
      "train Accuracy: 0.9933027148920669\n",
      "test Accuracy: 0.9835642714979351\n",
      "-------------------------------\n",
      "time: 5.75 s (started: 2022-12-28 22:33:16 +05:30)\n"
     ]
    }
   ],
   "source": [
    "mse_val = [] #to store rmse values for different k\n",
    "for K in range(10):\n",
    "    K = K+1\n",
    "    model = neighbors.KNeighborsRegressor(n_neighbors = K)\n",
    "\n",
    "    model.fit(X_train, Y_train)  #fit the model\n",
    "    pred=model.predict(X_test) #make prediction on test set\n",
    "    error = mean_squared_error(Y_test,pred) #calculate rmse\n",
    "    mse_val.append(error) #store rmse values\n",
    "\n",
    "    print('MSE value for k= ' , K , 'is:', error)\n",
    "    print('train Accuracy:',model.score(X_train, Y_train))\n",
    "    print('test Accuracy:',model.score(X_test, Y_test))\n",
    "    print('-------------------------------')"
   ]
  },
  {
   "cell_type": "markdown",
   "id": "5ea44912",
   "metadata": {
    "id": "5ea44912"
   },
   "source": [
    "#### Decision Tree Regression"
   ]
  },
  {
   "cell_type": "code",
   "execution_count": 37,
   "id": "c9169fee",
   "metadata": {
    "colab": {
     "base_uri": "https://localhost:8080/"
    },
    "id": "c9169fee",
    "outputId": "49c55a37-b9dd-4866-8114-08e2612a6aab"
   },
   "outputs": [
    {
     "name": "stdout",
     "output_type": "stream",
     "text": [
      "time: 94 ms (started: 2022-12-28 22:33:22 +05:30)\n"
     ]
    }
   ],
   "source": [
    "from sklearn.tree import DecisionTreeRegressor"
   ]
  },
  {
   "cell_type": "code",
   "execution_count": 38,
   "id": "c29d25e6",
   "metadata": {
    "colab": {
     "base_uri": "https://localhost:8080/"
    },
    "id": "c29d25e6",
    "outputId": "01d09970-9f8b-4c6b-96ce-bd6706c4121e"
   },
   "outputs": [
    {
     "data": {
      "text/plain": [
       "DecisionTreeRegressor(random_state=0)"
      ]
     },
     "execution_count": 38,
     "metadata": {},
     "output_type": "execute_result"
    },
    {
     "name": "stdout",
     "output_type": "stream",
     "text": [
      "time: 172 ms (started: 2022-12-28 22:33:22 +05:30)\n"
     ]
    }
   ],
   "source": [
    "regressor = DecisionTreeRegressor(random_state = 0) \n",
    "regressor.fit(X_train, Y_train)"
   ]
  },
  {
   "cell_type": "code",
   "execution_count": 39,
   "id": "uP19ZlQyHoz5",
   "metadata": {
    "colab": {
     "base_uri": "https://localhost:8080/"
    },
    "id": "uP19ZlQyHoz5",
    "outputId": "b37450ec-dc33-414c-e5b2-c7cb69634509"
   },
   "outputs": [
    {
     "data": {
      "text/plain": [
       "['DTRegression.joblib']"
      ]
     },
     "execution_count": 39,
     "metadata": {},
     "output_type": "execute_result"
    },
    {
     "name": "stdout",
     "output_type": "stream",
     "text": [
      "time: 15 ms (started: 2022-12-28 22:33:22 +05:30)\n"
     ]
    }
   ],
   "source": [
    "dump(regressor , 'DTRegression.joblib')"
   ]
  },
  {
   "cell_type": "code",
   "execution_count": 40,
   "id": "19ddd17f",
   "metadata": {
    "colab": {
     "base_uri": "https://localhost:8080/"
    },
    "id": "19ddd17f",
    "outputId": "fbea33f9-2a05-49a2-b424-dee85fb4a8e9"
   },
   "outputs": [
    {
     "name": "stdout",
     "output_type": "stream",
     "text": [
      "time: 16 ms (started: 2022-12-28 22:33:22 +05:30)\n"
     ]
    }
   ],
   "source": [
    "y_pred = regressor.predict(X_test)\n",
    "tree_train=regressor.score(X_train,Y_train)\n",
    "tree_test=regressor.score(X_test,Y_test)\n",
    "\n",
    "dt_mse = mean_squared_error(Y_test, y_pred)"
   ]
  },
  {
   "cell_type": "markdown",
   "id": "5cfd1e04",
   "metadata": {
    "id": "5cfd1e04"
   },
   "source": [
    "#### Ridge Regression"
   ]
  },
  {
   "cell_type": "code",
   "execution_count": 41,
   "id": "52fa90a0",
   "metadata": {
    "colab": {
     "base_uri": "https://localhost:8080/"
    },
    "id": "52fa90a0",
    "outputId": "eca0e7c4-2bab-4909-f48c-7ed7d96aba7c"
   },
   "outputs": [
    {
     "name": "stdout",
     "output_type": "stream",
     "text": [
      "time: 0 ns (started: 2022-12-28 22:33:22 +05:30)\n"
     ]
    }
   ],
   "source": [
    "from sklearn.linear_model import Ridge"
   ]
  },
  {
   "cell_type": "code",
   "execution_count": 42,
   "id": "b416018e",
   "metadata": {
    "colab": {
     "base_uri": "https://localhost:8080/"
    },
    "id": "b416018e",
    "outputId": "1748228e-3850-4211-a1f8-7111ae46c8c0"
   },
   "outputs": [
    {
     "data": {
      "text/plain": [
       "Ridge()"
      ]
     },
     "execution_count": 42,
     "metadata": {},
     "output_type": "execute_result"
    },
    {
     "name": "stdout",
     "output_type": "stream",
     "text": [
      "time: 31 ms (started: 2022-12-28 22:33:22 +05:30)\n"
     ]
    }
   ],
   "source": [
    "clf = Ridge(alpha=1.0)\n",
    "clf.fit(X_train, Y_train)"
   ]
  },
  {
   "cell_type": "code",
   "execution_count": 43,
   "id": "jfE-8gpY8HL2",
   "metadata": {
    "colab": {
     "base_uri": "https://localhost:8080/"
    },
    "id": "jfE-8gpY8HL2",
    "outputId": "a9c36f11-6561-4ada-d9f6-c6b8df2830a5"
   },
   "outputs": [
    {
     "data": {
      "text/plain": [
       "['RidgeRegression.joblib']"
      ]
     },
     "execution_count": 43,
     "metadata": {},
     "output_type": "execute_result"
    },
    {
     "name": "stdout",
     "output_type": "stream",
     "text": [
      "time: 0 ns (started: 2022-12-28 22:33:22 +05:30)\n"
     ]
    }
   ],
   "source": [
    "dump(clf , 'RidgeRegression.joblib')"
   ]
  },
  {
   "cell_type": "code",
   "execution_count": 44,
   "id": "2c40e4b2",
   "metadata": {
    "colab": {
     "base_uri": "https://localhost:8080/"
    },
    "id": "2c40e4b2",
    "outputId": "780658f0-b6ea-4dc2-a4de-0534d6fda4ea"
   },
   "outputs": [
    {
     "name": "stdout",
     "output_type": "stream",
     "text": [
      "time: 0 ns (started: 2022-12-28 22:33:22 +05:30)\n"
     ]
    }
   ],
   "source": [
    "r_pred = clf.predict(X_test)\n",
    "ridge_train=clf.score(X_train,Y_train)\n",
    "ridge_test=clf.score(X_test,Y_test)\n",
    "\n",
    "r_mse = mean_squared_error(Y_test, r_pred)"
   ]
  },
  {
   "cell_type": "markdown",
   "id": "62145248",
   "metadata": {
    "id": "62145248"
   },
   "source": [
    "#### Summarry Matrix"
   ]
  },
  {
   "cell_type": "code",
   "execution_count": 45,
   "id": "bab46c0b",
   "metadata": {
    "colab": {
     "base_uri": "https://localhost:8080/"
    },
    "id": "bab46c0b",
    "outputId": "b7f380ee-dc00-4d7c-bb4b-f27edb59796b"
   },
   "outputs": [
    {
     "name": "stdout",
     "output_type": "stream",
     "text": [
      "                   0             1            2         3\n",
      "0          Regressor  R^2 of train  R^2 of test       MSE\n",
      "1  linear Regression      0.994264     0.992062  0.000041\n",
      "2    k-NN Regression      0.999477     0.996562  0.000018\n",
      "3    Tree Regression           1.0     0.997297  0.000014\n",
      "4   Ridge Regression      0.994247     0.992048  0.000041\n",
      "time: 0 ns (started: 2022-12-28 22:33:22 +05:30)\n"
     ]
    }
   ],
   "source": [
    "graph=[[\"Regressor\", \"R^2 of train\",\"R^2 of test\",\"MSE\"],\n",
    "       [\"linear Regression\", linr_train , linr_test,lr_mse],\n",
    "       [\"k-NN Regression\",knn_train,knn_test,knn_mse],\n",
    "       [\"Tree Regression\",tree_train,tree_test,dt_mse],\n",
    "       [\"Ridge Regression\", ridge_train, ridge_test,r_mse]]\n",
    "graph = pd.DataFrame(graph)\n",
    "print(graph)"
   ]
  }
 ],
 "metadata": {
  "colab": {
   "provenance": []
  },
  "kernelspec": {
   "display_name": "Python 3 (ipykernel)",
   "language": "python",
   "name": "python3"
  },
  "language_info": {
   "codemirror_mode": {
    "name": "ipython",
    "version": 3
   },
   "file_extension": ".py",
   "mimetype": "text/x-python",
   "name": "python",
   "nbconvert_exporter": "python",
   "pygments_lexer": "ipython3",
   "version": "3.9.12"
  }
 },
 "nbformat": 4,
 "nbformat_minor": 5
}
